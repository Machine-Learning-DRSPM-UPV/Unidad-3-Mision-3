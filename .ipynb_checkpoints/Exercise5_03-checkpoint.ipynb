{
 "cells": [
  {
   "cell_type": "markdown",
   "metadata": {},
   "source": [
    "# Exercise 5.03: Implementing the Mean Shift Algorithm\n",
    "\n",
    "In this exercise, we will implement clustering by using the mean shift algorithm.\n",
    "\n",
    "We will use the `scipy.spatial` library in order to compute the Euclidean distance. This library simplifies the calculation of distances (such as Euclidean or Manhattan) between a list of coordinates. More details about this library can be found at [https://docs.scipy.org/doc/scipy/reference/spatial.distance.html#module-scipy.spatial.distance](https://docs.scipy.org/doc/scipy/reference/spatial.distance.html#module-scipy.spatial.distance).\n",
    "\n",
    "The following steps will help you complete the exercise:"
   ]
  },
  {
   "cell_type": "markdown",
   "metadata": {},
   "source": [
    "1.- Let's use the data points from Exercise 5.01.\n",
    "\n",
    "Output\n",
    "\n",
    "![Figure 5.8](img/fig5_08.jpg)"
   ]
  },
  {
   "cell_type": "code",
   "execution_count": null,
   "metadata": {},
   "outputs": [],
   "source": []
  },
  {
   "cell_type": "markdown",
   "metadata": {},
   "source": [
    "2.- Equate point P1 to the first data point, `[1, 1]` of our list"
   ]
  },
  {
   "cell_type": "code",
   "execution_count": null,
   "metadata": {},
   "outputs": [],
   "source": []
  },
  {
   "cell_type": "markdown",
   "metadata": {},
   "source": [
    "3.- Find the points that are within a distance of `r = 2` from this point. We will use the `scipy` library, which simplifies mathematical calculations, including spatial distance.\n",
    "\n",
    "Output:\n",
    "\n",
    "```\n",
    "array([[1. , 1. ],\n",
    "       [1. , 1.5],\n",
    "       [2. , 2. ]])\n",
    "```"
   ]
  },
  {
   "cell_type": "code",
   "execution_count": null,
   "metadata": {},
   "outputs": [],
   "source": []
  },
  {
   "cell_type": "markdown",
   "metadata": {},
   "source": [
    "From the output, we can see that we found three points that fall within the radius of P1. They are the three points at the bottom left of the graph we saw earlier"
   ]
  },
  {
   "cell_type": "markdown",
   "metadata": {},
   "source": [
    "4.- Calculate the mean of the data points to obtain the new coordinates of P2.\n",
    "\n",
    "Output:\n",
    "\n",
    "```\n",
    "[1.3333333333333333, 1.5]\n",
    "```"
   ]
  },
  {
   "cell_type": "code",
   "execution_count": null,
   "metadata": {},
   "outputs": [],
   "source": []
  },
  {
   "cell_type": "markdown",
   "metadata": {},
   "source": [
    "5.- Now that the new P2 has been calculated, retrieve the points within the given radius again.\n",
    "\n",
    "Output:\n",
    "    \n",
    "```\n",
    "array([[1. , 1. ],\n",
    "       [1. , 1.5],\n",
    "       [2. , 2. ]])\n",
    "```"
   ]
  },
  {
   "cell_type": "code",
   "execution_count": null,
   "metadata": {},
   "outputs": [],
   "source": []
  },
  {
   "cell_type": "markdown",
   "metadata": {},
   "source": [
    "These are the same three points that we found in Step 3, so we can stop here. Three points have been found around the mean of $[1.3333333333333333, 1.5]$. The points around this center within a radius of 2 form a cluster."
   ]
  },
  {
   "cell_type": "markdown",
   "metadata": {},
   "source": [
    "6.- Since data points $[1, 1.5]$ and $[2, 2]$ are already in a cluster with $[1,1]$, we can directly continue with the fourth point in our list, $[8, 1]$.\n",
    "\n",
    "Output:\n",
    "\n",
    "```\n",
    "array([[8. , 1. ],\n",
    "       [8. , 0. ],\n",
    "       [8.5, 1. ],\n",
    "       [6. , 1. ]])\n",
    "```"
   ]
  },
  {
   "cell_type": "code",
   "execution_count": null,
   "metadata": {},
   "outputs": [],
   "source": []
  },
  {
   "cell_type": "markdown",
   "metadata": {},
   "source": [
    "This time, we found four points inside the radius r of P3"
   ]
  },
  {
   "cell_type": "markdown",
   "metadata": {},
   "source": [
    "7.- Calculate means and asign to P4.\n",
    "\n",
    "Output:\n",
    "\n",
    "```\n",
    "[7.625, 0.75]\n",
    "```"
   ]
  },
  {
   "cell_type": "code",
   "execution_count": null,
   "metadata": {},
   "outputs": [],
   "source": []
  },
  {
   "cell_type": "markdown",
   "metadata": {},
   "source": [
    "We calculated the mean of the array containing the four data points in order to obtain the new coordinates of P4."
   ]
  },
  {
   "cell_type": "markdown",
   "metadata": {},
   "source": [
    "8.- Notice that we got lucky with the selection of point $[8, 1]$. If we started with $P = [8, 0]$ or $P = [8.5, 1]$, we would only find three points instead of four. Let's try with $P5 = [8, 0]$.\n",
    "\n",
    "Output:\n",
    "\n",
    "```\n",
    "array([[8. , 1. ],\n",
    "       [8. , 0. ],\n",
    "       [8.5, 1. ]])\n",
    "```"
   ]
  },
  {
   "cell_type": "code",
   "execution_count": null,
   "metadata": {},
   "outputs": [],
   "source": []
  },
  {
   "cell_type": "markdown",
   "metadata": {},
   "source": [
    "This time, we found three points inside the radius r of P5."
   ]
  },
  {
   "cell_type": "markdown",
   "metadata": {},
   "source": [
    "9.- Now, rerun the distance calculation with the shifted mean as shown in Step 4.\n",
    "\n",
    "Output:\n",
    "\n",
    "```\n",
    "[8.166666666666666, 0.6666666666666666]\n",
    "```"
   ]
  },
  {
   "cell_type": "code",
   "execution_count": null,
   "metadata": {},
   "outputs": [],
   "source": []
  },
  {
   "cell_type": "markdown",
   "metadata": {},
   "source": [
    "10.- Now do the same again but with `P7 = [8.5, 1]`\n",
    "\n",
    "Output:\n",
    "\n",
    "```\n",
    "array([[8. , 1. ],\n",
    "       [8. , 0. ],\n",
    "       [8.5, 1. ]])\n",
    "```"
   ]
  },
  {
   "cell_type": "code",
   "execution_count": null,
   "metadata": {},
   "outputs": [],
   "source": []
  },
  {
   "cell_type": "markdown",
   "metadata": {},
   "source": [
    "This time, we found the same three points again inside the radius r of P. This means that starting from $[8,1]$, we got a larger cluster than starting from $[8, 0]$ or $[8.5, 1]$. Therefore, we must take the center point that contains the maximum number of data points."
   ]
  },
  {
   "cell_type": "markdown",
   "metadata": {},
   "source": [
    "11.- Now, let's see what would happen if we started the discovery from the fourth data point, that is, $[6, 1]$.\n",
    "\n",
    "Output\n",
    "\n",
    "```\n",
    "array([[8., 1.],\n",
    "       [6., 1.]])\n",
    "```"
   ]
  },
  {
   "cell_type": "code",
   "execution_count": null,
   "metadata": {},
   "outputs": [],
   "source": []
  },
  {
   "cell_type": "markdown",
   "metadata": {},
   "source": [
    "This time, we found only two data points inside the radius r of P8. We successfully found the data point $[8, 1]$."
   ]
  },
  {
   "cell_type": "markdown",
   "metadata": {},
   "source": [
    "12.- shift the mean from $[6, 1]$ to the calculated new mean.\n",
    "\n",
    "Output:\n",
    "\n",
    "```\n",
    "[7.0, 1.0]\n",
    "```"
   ]
  },
  {
   "cell_type": "code",
   "execution_count": null,
   "metadata": {},
   "outputs": [],
   "source": []
  },
  {
   "cell_type": "markdown",
   "metadata": {},
   "source": [
    "13.- Check whether you have obtained more points with this new P9\n",
    "\n",
    "Output:\n",
    "\n",
    "```\n",
    "array([[8. , 1. ],\n",
    "       [8. , 0. ],\n",
    "       [8.5, 1. ],\n",
    "       [6. , 1. ]])\n",
    "```"
   ]
  },
  {
   "cell_type": "code",
   "execution_count": null,
   "metadata": {},
   "outputs": [],
   "source": []
  },
  {
   "cell_type": "markdown",
   "metadata": {},
   "source": [
    "We successfully found all four points. Therefore, we have successfully defined a cluster of size 4. The mean will be the same as before: $[7.625, 0.75]$."
   ]
  }
 ],
 "metadata": {
  "kernelspec": {
   "display_name": "Python 3",
   "language": "python",
   "name": "python3"
  },
  "language_info": {
   "codemirror_mode": {
    "name": "ipython",
    "version": 3
   },
   "file_extension": ".py",
   "mimetype": "text/x-python",
   "name": "python",
   "nbconvert_exporter": "python",
   "pygments_lexer": "ipython3",
   "version": "3.8.5"
  }
 },
 "nbformat": 4,
 "nbformat_minor": 4
}
